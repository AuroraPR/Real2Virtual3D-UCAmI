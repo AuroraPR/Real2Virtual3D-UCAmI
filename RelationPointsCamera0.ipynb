{
 "cells": [
  {
   "cell_type": "code",
   "execution_count": 1,
   "id": "reflected-salem",
   "metadata": {},
   "outputs": [],
   "source": [
    "import os\n",
    "\n",
    "\n",
    "# cam1 to cam2\n",
    "dir_cam1 = \"cam1\"\n",
    "dir_cam2 = \"floor\"\n",
    "\n"
   ]
  },
  {
   "cell_type": "code",
   "execution_count": 2,
   "id": "flexible-andrews",
   "metadata": {},
   "outputs": [],
   "source": [
    "import cv2\n",
    "import numpy as np\n",
    "\n",
    "sourcePoints=[]\n",
    "targetPoints=[]\n",
    "\n",
    "sourcePoints.append((179,127))\n",
    "targetPoints.append((1.5,1))\n",
    "\n",
    "sourcePoints.append((400,156))\n",
    "targetPoints.append((3,1))\n",
    "\n",
    "sourcePoints.append((460,255))\n",
    "targetPoints.append((4,2))\n",
    "\n",
    "sourcePoints.append((500,358))\n",
    "targetPoints.append((4,3))\n",
    "\n",
    "sourcePoints.append((3,200))\n",
    "targetPoints.append((0,3))\n",
    "\n",
    "sourcePoints.append((175,260))\n",
    "targetPoints.append((1.75,2))\n",
    "\n",
    "sourcePoints.append((375,295))\n",
    "targetPoints.append((3,2))\n",
    "\n",
    "sourcePoints.append((300,360))\n",
    "targetPoints.append((2,3))"
   ]
  },
  {
   "cell_type": "code",
   "execution_count": null,
   "id": "062a9cae",
   "metadata": {},
   "outputs": [],
   "source": []
  },
  {
   "cell_type": "code",
   "execution_count": 3,
   "id": "finite-dollar",
   "metadata": {},
   "outputs": [
    {
     "name": "stdout",
     "output_type": "stream",
     "text": [
      "[[ 7.99756141e-03  2.83420315e-04  8.01871804e-03]\n",
      " [-2.86452111e-03  1.03891556e-02  4.58987734e-01]\n",
      " [-1.56173238e-04  3.21011141e-04  1.00000000e+00]]\n"
     ]
    }
   ],
   "source": [
    "sourcePoints=np.array(sourcePoints)\n",
    "targetPoints=np.array(targetPoints)\n",
    "#calculamos homografia\n",
    "H, mask = cv2.findHomography(sourcePoints, targetPoints, cv2.RANSAC)\n",
    "print(H)"
   ]
  },
  {
   "cell_type": "code",
   "execution_count": 4,
   "id": "quantitative-parliament",
   "metadata": {},
   "outputs": [
    {
     "name": "stdout",
     "output_type": "stream",
     "text": [
      "[[179. 127.]] prediction  [1.4569086 1.2496489]  real  [1.5 1. ]\n",
      "[[400. 156.]] prediction  [3.2920506 0.9456051]  real  [3. 1.]\n",
      "[[460. 255.]] prediction  [3.7218828 1.7727827]  real  [4. 2.]\n",
      "[[500. 358.]] prediction  [3.9623108 2.6484869]  real  [4. 3.]\n",
      "[[  3. 200.]] prediction  [0.08338127 2.3767464 ]  real  [0. 3.]\n",
      "[[175. 260.]] prediction  [1.4025524 2.5175598]  real  [1.75 2.  ]\n",
      "[[375. 295.]] prediction  [2.9829302 2.364168 ]  real  [3. 2.]\n",
      "[[300. 360.]] prediction  [2.3479836 3.1250021]  real  [2. 3.]\n"
     ]
    }
   ],
   "source": [
    "pts1 = sourcePoints.reshape(-1,1,2).astype(np.float32)\n",
    "#Multiplicamos por H los origenes para saber donde caen y comparamos con la real\n",
    "dst2 = cv2.perspectiveTransform(pts1, H)\n",
    "for ix in range(0,len(dst2)):\n",
    "    print(pts1[ix],\"prediction \",dst2[ix][0], \" real \", targetPoints[ix])"
   ]
  },
  {
   "cell_type": "code",
   "execution_count": 5,
   "id": "hidden-stock",
   "metadata": {},
   "outputs": [
    {
     "name": "stdout",
     "output_type": "stream",
     "text": [
      "[[ 7.99756141e-03  2.83420315e-04  8.01871804e-03]\n",
      " [-2.86452111e-03  1.03891556e-02  4.58987734e-01]\n",
      " [-1.56173238e-04  3.21011141e-04  1.00000000e+00]]\n"
     ]
    }
   ],
   "source": [
    "\n",
    "np.save(\"H\"+dir_cam1+\"x\"+dir_cam2+\".npy\",H)\n",
    "H2=np.load(\"H\"+dir_cam1+\"x\"+dir_cam2+\".npy\")\n",
    "print(H2)\n",
    "\n",
    "\n",
    "\n"
   ]
  },
  {
   "cell_type": "code",
   "execution_count": 6,
   "id": "native-office",
   "metadata": {},
   "outputs": [
    {
     "name": "stdout",
     "output_type": "stream",
     "text": [
      "[[421. 286.]] prediction  [3.3682723 2.1678286]\n",
      "[[111. 267.]] prediction  [0.90925145 2.7283783 ]\n",
      "[[179. 127.]] prediction  [1.4569086 1.2496489]\n"
     ]
    }
   ],
   "source": [
    "sourcePoints=np.array([[[ 421,286]],[[ 111,267  ]],[[179,127]]])\n",
    "pts1 = sourcePoints.reshape(-1,1,2).astype(np.float32)\n",
    "#Multiplicamos por H los origenes para saber donde caen y comparamos con la real\n",
    "dst2 = cv2.perspectiveTransform(pts1, H2)\n",
    "for ix in range(0,len(dst2)):\n",
    "    print(pts1[ix],\"prediction \",dst2[ix][0])"
   ]
  },
  {
   "cell_type": "code",
   "execution_count": null,
   "id": "8ef14ec7",
   "metadata": {},
   "outputs": [],
   "source": []
  }
 ],
 "metadata": {
  "kernelspec": {
   "display_name": "Python 3 (ipykernel)",
   "language": "python",
   "name": "python3"
  },
  "language_info": {
   "codemirror_mode": {
    "name": "ipython",
    "version": 3
   },
   "file_extension": ".py",
   "mimetype": "text/x-python",
   "name": "python",
   "nbconvert_exporter": "python",
   "pygments_lexer": "ipython3",
   "version": "3.9.13"
  }
 },
 "nbformat": 4,
 "nbformat_minor": 5
}
