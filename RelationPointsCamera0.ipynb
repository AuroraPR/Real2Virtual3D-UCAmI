{
 "cells": [
  {
   "cell_type": "code",
   "execution_count": 1,
   "id": "reflected-salem",
   "metadata": {},
   "outputs": [],
   "source": [
    "import os\n",
    "\n",
    "\n",
    "# cam1 to cam2\n",
    "dir_cam1 = \"cam2\"\n",
    "dir_cam2 = \"floor\"\n",
    "\n"
   ]
  },
  {
   "cell_type": "code",
   "execution_count": 2,
   "id": "flexible-andrews",
   "metadata": {},
   "outputs": [],
   "source": [
    "import cv2\n",
    "import numpy as np\n",
    "\n",
    "sourcePoints=[]\n",
    "targetPoints=[]\n",
    "\n",
    "#cam1\n",
    "sourcePoints.append((120,275))\n",
    "targetPoints.append((0,3.5))\n",
    "\n",
    "sourcePoints.append((205,210))\n",
    "targetPoints.append((0,7))\n",
    "\n",
    "sourcePoints.append((335,228))\n",
    "targetPoints.append((3.5,7))\n",
    "\n",
    "sourcePoints.append((488,247))\n",
    "targetPoints.append((7,7))\n",
    "\n",
    "sourcePoints.append((478,355))\n",
    "targetPoints.append((7,3.5))\n",
    "\n",
    "#cam2\n",
    "sourcePoints=[]\n",
    "targetPoints=[]\n",
    "\n",
    "sourcePoints.append((532,248))\n",
    "targetPoints.append((0,0))\n",
    "\n",
    "sourcePoints.append((388,220))\n",
    "targetPoints.append((3.5,0))\n",
    "\n",
    "sourcePoints.append((258,192))\n",
    "targetPoints.append((7,0))\n",
    "\n",
    "sourcePoints.append((172,251))\n",
    "targetPoints.append((7,3.5))\n",
    "\n",
    "sourcePoints.append((47,335))\n",
    "targetPoints.append((7,7))\n",
    "\n",
    "sourcePoints.append((325,300))\n",
    "targetPoints.append((3.5,3.5))\n",
    "\n",
    "sourcePoints.append((518,351))\n",
    "targetPoints.append((0,3.5))\n",
    "\n",
    "#cam2\n",
    "sourcePoints=[]\n",
    "targetPoints=[]\n",
    "\n",
    "sourcePoints.append((53,270))\n",
    "targetPoints.append((0,2))\n",
    "\n",
    "sourcePoints.append((121,305))\n",
    "targetPoints.append((1.25,2))\n",
    "\n",
    "sourcePoints.append((215,256))\n",
    "targetPoints.append((1.25,1.25))\n",
    "\n",
    "sourcePoints.append((420,320))\n",
    "targetPoints.append((1.25,2.5))\n",
    "\n",
    "sourcePoints.append((5,358))\n",
    "targetPoints.append((1.25,3))\n",
    "\n",
    "sourcePoints.append((168,350))\n",
    "targetPoints.append((2.5,3.5))\n",
    "\n",
    "sourcePoints.append((427,355))\n",
    "targetPoints.append((3.25,2))\n"
   ]
  },
  {
   "cell_type": "code",
   "execution_count": null,
   "id": "062a9cae",
   "metadata": {},
   "outputs": [],
   "source": []
  },
  {
   "cell_type": "code",
   "execution_count": 3,
   "id": "finite-dollar",
   "metadata": {},
   "outputs": [
    {
     "name": "stdout",
     "output_type": "stream",
     "text": [
      "[[ 8.60759714e-04 -5.05073441e-05  9.43122963e-02]\n",
      " [ 3.89161859e-04 -4.03189660e-03  1.62029643e+00]\n",
      " [ 1.85077696e-04 -2.64351912e-03  1.00000000e+00]]\n"
     ]
    }
   ],
   "source": [
    "sourcePoints=np.array(sourcePoints)\n",
    "targetPoints=np.array(targetPoints)\n",
    "#calculamos homografia\n",
    "H, mask = cv2.findHomography(sourcePoints, targetPoints, cv2.RANSAC)\n",
    "print(H)"
   ]
  },
  {
   "cell_type": "code",
   "execution_count": 4,
   "id": "quantitative-parliament",
   "metadata": {},
   "outputs": [
    {
     "name": "stdout",
     "output_type": "stream",
     "text": [
      "[[ 53. 270.]] prediction  [0.42658928 1.8655404 ]  real  [0. 2.]\n",
      "[[121. 305.]] prediction  [0.84702283 2.0250528 ]  real  [1.25 2.  ]\n",
      "[[215. 256.]] prediction  [0.73390764 1.8504316 ]  real  [1.25 1.25]\n",
      "[[420. 320.]] prediction  [1.8967069 2.1290925]  real  [1.25 2.5 ]\n",
      "[[  5. 358.]] prediction  [1.4764627 3.278421 ]  real  [1.25 3.  ]\n",
      "[[168. 350.]] prediction  [2.0899255 2.5931256]  real  [2.5 3.5]\n",
      "[[427. 355.]] prediction  [3.1578467 2.5263057]  real  [3.25 2.  ]\n"
     ]
    }
   ],
   "source": [
    "pts1 = sourcePoints.reshape(-1,1,2).astype(np.float32)\n",
    "#Multiplicamos por H los origenes para saber donde caen y comparamos con la real\n",
    "dst2 = cv2.perspectiveTransform(pts1, H)\n",
    "for ix in range(0,len(dst2)):\n",
    "    print(pts1[ix],\"prediction \",dst2[ix][0], \" real \", targetPoints[ix])"
   ]
  },
  {
   "cell_type": "code",
   "execution_count": 5,
   "id": "hidden-stock",
   "metadata": {},
   "outputs": [
    {
     "name": "stdout",
     "output_type": "stream",
     "text": [
      "[[ 8.60759714e-04 -5.05073441e-05  9.43122963e-02]\n",
      " [ 3.89161859e-04 -4.03189660e-03  1.62029643e+00]\n",
      " [ 1.85077696e-04 -2.64351912e-03  1.00000000e+00]]\n"
     ]
    }
   ],
   "source": [
    "\n",
    "np.save(\"H\"+dir_cam1+\"x\"+dir_cam2+\".npy\",H)\n",
    "H2=np.load(\"H\"+dir_cam1+\"x\"+dir_cam2+\".npy\")\n",
    "print(H2)\n",
    "\n",
    "\n",
    "\n"
   ]
  },
  {
   "cell_type": "code",
   "execution_count": 6,
   "id": "native-office",
   "metadata": {},
   "outputs": [
    {
     "name": "stdout",
     "output_type": "stream",
     "text": [
      "[[421. 286.]] prediction  [1.3739874 1.9604459]\n",
      "[[111. 267.]] prediction  [0.5603994 1.865053 ]\n",
      "[[179. 127.]] prediction  [0.3469647 1.6889908]\n"
     ]
    }
   ],
   "source": [
    "sourcePoints=np.array([[[ 421,286]],[[ 111,267  ]],[[179,127]]])\n",
    "pts1 = sourcePoints.reshape(-1,1,2).astype(np.float32)\n",
    "#Multiplicamos por H los origenes para saber donde caen y comparamos con la real\n",
    "dst2 = cv2.perspectiveTransform(pts1, H2)\n",
    "for ix in range(0,len(dst2)):\n",
    "    print(pts1[ix],\"prediction \",dst2[ix][0])"
   ]
  },
  {
   "cell_type": "code",
   "execution_count": null,
   "id": "8ef14ec7",
   "metadata": {},
   "outputs": [],
   "source": []
  }
 ],
 "metadata": {
  "kernelspec": {
   "display_name": "Python 3 (ipykernel)",
   "language": "python",
   "name": "python3"
  },
  "language_info": {
   "codemirror_mode": {
    "name": "ipython",
    "version": 3
   },
   "file_extension": ".py",
   "mimetype": "text/x-python",
   "name": "python",
   "nbconvert_exporter": "python",
   "pygments_lexer": "ipython3",
   "version": "3.9.13"
  }
 },
 "nbformat": 4,
 "nbformat_minor": 5
}
